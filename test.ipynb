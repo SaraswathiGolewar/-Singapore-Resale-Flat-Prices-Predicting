{
 "cells": [
  {
   "cell_type": "code",
   "execution_count": 1,
   "metadata": {},
   "outputs": [],
   "source": [
    "import pandas as pd\n",
    "import numpy as np\n",
    "import json\n",
    "\n",
    "import matplotlib.pyplot as plt\n",
    "import seaborn as sns\n",
    "sns.set()\n",
    "import datetime as dt\n",
    "\n",
    "import plotly.express as px\n",
    "import plotly.graph_objects as go\n",
    "import plotly.io as pio\n",
    "\n",
    "\n",
    "import warnings\n",
    "warnings.filterwarnings('ignore')\n",
    "\n",
    "import requests\n",
    "import glob"
   ]
  },
  {
   "cell_type": "code",
   "execution_count": null,
   "metadata": {},
   "outputs": [],
   "source": [
    "# METHOD 01\n",
    "df1=pd.read_csv(r\"C:\\Users\\vihari\\Downloads\\ResaleFlatPricesBasedonApprovalDate19901999.csv\")\n",
    "df2=pd.read_csv(r\"C:\\Users\\vihari\\Downloads\\ResaleFlatPricesBasedonApprovalDate2000Feb2012.csv\")\n",
    "df3=pd.read_csv(r\"C:\\Users\\vihari\\Downloads\\ResaleFlatPricesBasedonRegistrationDateFromMar2012toDec2014.csv\")\n",
    "df4=pd.read_csv(r\"C:\\Users\\vihari\\Downloads\\ResaleFlatPricesBasedonRegistrationDateFromJan2015toDec2016.csv\")\n",
    "df5=pd.read_csv(r\"C:\\Users\\vihari\\Downloads\\ResaleflatpricesbasedonregistrationdatefromJan2017onwards.csv\")\n",
    "\n",
    "\n",
    "df=pd.concat([df1,df2,df3,df4,df5], ignore_index=True)\n",
    "df"
   ]
  },
  {
   "cell_type": "code",
   "execution_count": null,
   "metadata": {},
   "outputs": [],
   "source": [
    "df.shape"
   ]
  },
  {
   "cell_type": "code",
   "execution_count": null,
   "metadata": {},
   "outputs": [],
   "source": [
    "df.info()"
   ]
  },
  {
   "cell_type": "code",
   "execution_count": null,
   "metadata": {},
   "outputs": [],
   "source": [
    "df.columns"
   ]
  },
  {
   "cell_type": "code",
   "execution_count": null,
   "metadata": {},
   "outputs": [],
   "source": [
    "df.describe().T"
   ]
  },
  {
   "cell_type": "code",
   "execution_count": null,
   "metadata": {},
   "outputs": [],
   "source": [
    "df['resale_price'].value_counts()"
   ]
  },
  {
   "cell_type": "markdown",
   "metadata": {},
   "source": [
    "Data Cleaning"
   ]
  },
  {
   "cell_type": "code",
   "execution_count": null,
   "metadata": {},
   "outputs": [],
   "source": [
    "df.nunique()"
   ]
  },
  {
   "cell_type": "code",
   "execution_count": null,
   "metadata": {},
   "outputs": [],
   "source": [
    "df.isna().sum()"
   ]
  },
  {
   "cell_type": "markdown",
   "metadata": {},
   "source": [
    "REMAINING_LEASE"
   ]
  },
  {
   "cell_type": "code",
   "execution_count": null,
   "metadata": {},
   "outputs": [],
   "source": [
    "def convert_to_years(row):\n",
    "    if pd.notna(row) and isinstance(row, str):\n",
    "        if 'years' in row:\n",
    "            parts = row.split()\n",
    "            years = float(parts[0])\n",
    "            months = float(parts[2]) if len(parts) > 2 else 0\n",
    "            return years + months / 12\n",
    "    return row"
   ]
  },
  {
   "cell_type": "code",
   "execution_count": null,
   "metadata": {},
   "outputs": [],
   "source": [
    "df['remaining_lease'] =df['remaining_lease'].apply(convert_to_years)"
   ]
  },
  {
   "cell_type": "code",
   "execution_count": null,
   "metadata": {},
   "outputs": [],
   "source": [
    "# fill null values in remaining_lease with mode beacuse null value more than 25% it will remove affected in accuracy\n",
    "df['remaining_lease']=df['remaining_lease'].fillna(df['remaining_lease'].mode()[0])\n",
    "df.tail()"
   ]
  },
  {
   "cell_type": "code",
   "execution_count": null,
   "metadata": {},
   "outputs": [],
   "source": [
    "df['remaining_lease'].value_counts()"
   ]
  },
  {
   "cell_type": "code",
   "execution_count": null,
   "metadata": {},
   "outputs": [],
   "source": [
    "df.isnull().sum()"
   ]
  },
  {
   "cell_type": "markdown",
   "metadata": {},
   "source": [
    "Wrong Formate"
   ]
  },
  {
   "cell_type": "code",
   "execution_count": null,
   "metadata": {},
   "outputs": [],
   "source": [
    "df.dtypes"
   ]
  },
  {
   "cell_type": "code",
   "execution_count": null,
   "metadata": {},
   "outputs": [],
   "source": [
    "#Month column\n",
    "\n",
    "# Separate the year and month of resale beacuse this is time series Data\n",
    "df[['resale_year', 'resale_month']] =df['month'].str.split('-', expand=True)\n",
    "\n",
    "# drop the resale month column\n",
    "df.drop('month', axis = 1, inplace= True)\n",
    "\n",
    "df.head(2)"
   ]
  },
  {
   "cell_type": "code",
   "execution_count": null,
   "metadata": {},
   "outputs": [],
   "source": [
    "# Split the 'Range' column into lower and upper bounds\n",
    "df[['storey_lower_bound', 'storey_upper_bound']] = df['storey_range'].str.split(' TO ', expand=True)\n",
    "\n",
    "# Convert the lower and upper bounds to numeric values\n",
    "df['storey_lower_bound'] = pd.to_numeric(df['storey_lower_bound'])\n",
    "df['storey_upper_bound'] = pd.to_numeric(df['storey_upper_bound'])\n",
    "\n",
    "df.tail(2)"
   ]
  },
  {
   "cell_type": "code",
   "execution_count": null,
   "metadata": {},
   "outputs": [],
   "source": [
    "df.drop('storey_range', axis = 1, inplace= True)"
   ]
  },
  {
   "cell_type": "code",
   "execution_count": null,
   "metadata": {},
   "outputs": [],
   "source": [
    "\n",
    "# CONVERTING\n",
    "\n",
    "df['block'] = pd.to_numeric(df['block'], errors='coerce')\n",
    "df['resale_year'] = pd.to_numeric(df['resale_year'], errors='coerce')\n",
    "df['resale_month'] = pd.to_numeric(df['resale_month'], errors='coerce')\n",
    "df['block'] = df['block'].fillna(df['block'].mode()[0])"
   ]
  },
  {
   "cell_type": "code",
   "execution_count": null,
   "metadata": {},
   "outputs": [],
   "source": [
    "df.head()"
   ]
  },
  {
   "cell_type": "code",
   "execution_count": null,
   "metadata": {},
   "outputs": [],
   "source": [
    "df.dtypes"
   ]
  },
  {
   "cell_type": "markdown",
   "metadata": {},
   "source": [
    "TEXT ERRORS"
   ]
  },
  {
   "cell_type": "code",
   "execution_count": null,
   "metadata": {},
   "outputs": [],
   "source": [
    "object_data_cols = [var for var in df.columns if df[var].dtype == 'object']\n",
    "object_data_cols"
   ]
  },
  {
   "cell_type": "code",
   "execution_count": null,
   "metadata": {},
   "outputs": [],
   "source": [
    "df['town'].value_counts()"
   ]
  },
  {
   "cell_type": "code",
   "execution_count": null,
   "metadata": {},
   "outputs": [],
   "source": [
    "df['flat_type'].value_counts()"
   ]
  },
  {
   "cell_type": "code",
   "execution_count": null,
   "metadata": {},
   "outputs": [],
   "source": [
    "# Replace 'MULTI-GENERATION' with 'MULTI GENERATION' in the specified column to avoid duplicate\n",
    "df['flat_type'] = df['flat_type'].str.replace('MULTI-GENERATION', 'MULTI GENERATION')"
   ]
  },
  {
   "cell_type": "code",
   "execution_count": null,
   "metadata": {},
   "outputs": [],
   "source": [
    "df['flat_type'].value_counts()"
   ]
  },
  {
   "cell_type": "code",
   "execution_count": null,
   "metadata": {},
   "outputs": [],
   "source": [
    "df['street_name'].value_counts()"
   ]
  },
  {
   "cell_type": "code",
   "execution_count": null,
   "metadata": {},
   "outputs": [],
   "source": [
    "df['flat_model'].value_counts()"
   ]
  },
  {
   "cell_type": "code",
   "execution_count": null,
   "metadata": {},
   "outputs": [],
   "source": [
    "df['flat_model'] = df['flat_model'].replace({'MODEL A':'Model A','NEW GENERATION':'New Generation',\n",
    "                                             'IMPROVED':'Improved','PREMIUM APARTMENT':'Premium Apartment',\n",
    "                                             'MULTI GENERATION':'Multi Generation ','2-ROOM':'2-room',\n",
    "                                            'SIMPLIFIED':'Simplified','STANDARD':'Standard',\n",
    "                                             'MAISONETTE':'Maisonette','MULTI GENERATION':'Multi Generation',\n",
    "                                             'APARTMENT':'Apartment','MODEL A-MAISONETTE':'Model A-Maisonette',\n",
    "                                             'TERRACE':'Terrace','IMPROVED-MAISONETTE':'Improved-Maisonette'})"
   ]
  },
  {
   "cell_type": "code",
   "execution_count": null,
   "metadata": {},
   "outputs": [],
   "source": [
    "df['flat_model'].value_counts()"
   ]
  },
  {
   "cell_type": "markdown",
   "metadata": {},
   "source": [
    "Duplicates"
   ]
  },
  {
   "cell_type": "code",
   "execution_count": null,
   "metadata": {},
   "outputs": [],
   "source": [
    "df.duplicated().sum()"
   ]
  },
  {
   "cell_type": "code",
   "execution_count": null,
   "metadata": {},
   "outputs": [],
   "source": [
    "df.drop_duplicates(inplace=True)\n",
    "df.duplicated().sum()"
   ]
  },
  {
   "cell_type": "markdown",
   "metadata": {},
   "source": [
    "Outliers"
   ]
  },
  {
   "cell_type": "code",
   "execution_count": null,
   "metadata": {},
   "outputs": [],
   "source": [
    "float_data_cols = [var for var in df.columns if df[var].dtype == 'float64']\n",
    "float_data_cols"
   ]
  },
  {
   "cell_type": "code",
   "execution_count": null,
   "metadata": {},
   "outputs": [],
   "source": [
    "integer_data_cols = [var for var in df.columns if df[var].dtype == 'int64']\n",
    "integer_data_cols"
   ]
  },
  {
   "cell_type": "markdown",
   "metadata": {},
   "source": [
    "Using Boxplot"
   ]
  },
  {
   "cell_type": "code",
   "execution_count": null,
   "metadata": {},
   "outputs": [],
   "source": [
    "# Creating plot\n",
    "plt.boxplot(df['block'] )"
   ]
  },
  {
   "cell_type": "code",
   "execution_count": null,
   "metadata": {},
   "outputs": [],
   "source": [
    "# show plot\n",
    "plt.show()"
   ]
  },
  {
   "cell_type": "code",
   "execution_count": null,
   "metadata": {},
   "outputs": [],
   "source": [
    "        # IQR\n",
    "\n",
    "Q1 = df['block'].quantile(0.25)\n",
    "Q3 = df['block'].quantile(0.75)\n",
    "IQR = Q3 - Q1\n",
    "\n",
    "lower_bound = Q1 - 1.5 * IQR\n",
    "upper_bound = Q3 + 1.5 * IQR\n",
    "\n",
    "lower_bound , upper_bound"
   ]
  },
  {
   "cell_type": "code",
   "execution_count": null,
   "metadata": {},
   "outputs": [],
   "source": [
    "df.block = df.block.clip(lower_bound , upper_bound)"
   ]
  },
  {
   "cell_type": "code",
   "execution_count": null,
   "metadata": {},
   "outputs": [],
   "source": [
    "# Creating plot\n",
    "plt.boxplot(df['block'] )\n",
    "# show plot\n",
    "plt.show()"
   ]
  },
  {
   "cell_type": "code",
   "execution_count": null,
   "metadata": {},
   "outputs": [],
   "source": [
    "# Creating plot\n",
    "plt.boxplot(df['floor_area_sqm'] )\n",
    "\n",
    "# show plot\n",
    "plt.show()"
   ]
  },
  {
   "cell_type": "code",
   "execution_count": null,
   "metadata": {},
   "outputs": [],
   "source": [
    "Q1 = df['floor_area_sqm'].quantile(0.25)\n",
    "Q3 = df['floor_area_sqm'].quantile(0.75)\n",
    "IQR = Q3 - Q1\n",
    "\n",
    "lower_bound = Q1 - 1.5 * IQR\n",
    "upper_bound = Q3 + 1.5 * IQR\n",
    "\n",
    "lower_bound , upper_bound"
   ]
  },
  {
   "cell_type": "code",
   "execution_count": null,
   "metadata": {},
   "outputs": [],
   "source": [
    "df.floor_area_sqm = df.floor_area_sqm.clip(lower_bound , upper_bound)"
   ]
  },
  {
   "cell_type": "code",
   "execution_count": null,
   "metadata": {},
   "outputs": [],
   "source": [
    "# Creating plot\n",
    "plt.boxplot(df['floor_area_sqm'] )\n",
    "\n",
    "# show plot\n",
    "plt.show()"
   ]
  },
  {
   "cell_type": "code",
   "execution_count": null,
   "metadata": {},
   "outputs": [],
   "source": [
    "# Creating plot\n",
    "plt.boxplot(df['resale_price'] )\n",
    "\n",
    "# show plot\n",
    "plt.show()"
   ]
  },
  {
   "cell_type": "code",
   "execution_count": null,
   "metadata": {},
   "outputs": [],
   "source": [
    "Q1 = df['resale_price'].quantile(0.25)\n",
    "Q3 = df['resale_price'].quantile(0.75)\n",
    "IQR = Q3 - Q1\n",
    "\n",
    "lower_bound = Q1 - 1.5 * IQR\n",
    "upper_bound = Q3 + 1.5 * IQR\n",
    "\n",
    "lower_bound , upper_bound\n"
   ]
  },
  {
   "cell_type": "code",
   "execution_count": null,
   "metadata": {},
   "outputs": [],
   "source": [
    "df.resale_price = df.resale_price.clip(lower_bound , upper_bound)"
   ]
  },
  {
   "cell_type": "code",
   "execution_count": null,
   "metadata": {},
   "outputs": [],
   "source": [
    "# Creating plot\n",
    "plt.boxplot(df['resale_price'] )\n",
    "\n",
    "# show plot\n",
    "plt.show()"
   ]
  },
  {
   "cell_type": "code",
   "execution_count": null,
   "metadata": {},
   "outputs": [],
   "source": [
    "# Creating plot\n",
    "plt.boxplot(df['remaining_lease'] )\n",
    "\n",
    "# show plot\n",
    "plt.show()"
   ]
  },
  {
   "cell_type": "code",
   "execution_count": null,
   "metadata": {},
   "outputs": [],
   "source": [
    "Q1 = df['remaining_lease'].quantile(0.25)\n",
    "Q3 = df['remaining_lease'].quantile(0.75)\n",
    "IQR = Q3 - Q1\n",
    "\n",
    "lower_bound = Q1 - 1.5 * IQR\n",
    "upper_bound = Q3 + 1.5 * IQR\n",
    "\n",
    "lower_bound , upper_bound"
   ]
  },
  {
   "cell_type": "code",
   "execution_count": null,
   "metadata": {},
   "outputs": [],
   "source": [
    "df.remaining_lease = df.remaining_lease.clip(lower_bound , upper_bound)\n"
   ]
  },
  {
   "cell_type": "code",
   "execution_count": null,
   "metadata": {},
   "outputs": [],
   "source": [
    "# Creating plot\n",
    "plt.boxplot(df['remaining_lease'] )\n",
    "\n",
    "# show plot\n",
    "plt.show()"
   ]
  },
  {
   "cell_type": "code",
   "execution_count": null,
   "metadata": {},
   "outputs": [],
   "source": [
    "# Creating plot\n",
    "plt.boxplot(df['lease_commence_date'] )\n",
    "\n",
    "# show plot\n",
    "plt.show()"
   ]
  },
  {
   "cell_type": "code",
   "execution_count": null,
   "metadata": {},
   "outputs": [],
   "source": [
    "Q1 = df['lease_commence_date'].quantile(0.25)\n",
    "Q3 = df['lease_commence_date'].quantile(0.75)\n",
    "IQR = Q3 - Q1\n",
    "\n",
    "lower_bound = Q1 - 1.5 * IQR\n",
    "upper_bound = Q3 + 1.5 * IQR\n",
    "\n",
    "lower_bound , upper_bound"
   ]
  },
  {
   "cell_type": "code",
   "execution_count": null,
   "metadata": {},
   "outputs": [],
   "source": [
    "df.lease_commence_date = df.lease_commence_date.clip(lower_bound , upper_bound)"
   ]
  },
  {
   "cell_type": "code",
   "execution_count": null,
   "metadata": {},
   "outputs": [],
   "source": [
    "# Creating plot\n",
    "plt.boxplot(df['lease_commence_date'] )\n",
    "\n",
    "# show plot\n",
    "plt.show()"
   ]
  },
  {
   "cell_type": "code",
   "execution_count": null,
   "metadata": {},
   "outputs": [],
   "source": [
    "# Creating plot\n",
    "plt.boxplot(df['storey_lower_bound'] )\n",
    "\n",
    "# show plot\n",
    "plt.show()"
   ]
  },
  {
   "cell_type": "code",
   "execution_count": null,
   "metadata": {},
   "outputs": [],
   "source": [
    "Q1 = df['storey_lower_bound'].quantile(0.25)\n",
    "Q3 = df['storey_lower_bound'].quantile(0.75)\n",
    "IQR = Q3 - Q1\n",
    "\n",
    "lower_bound = Q1 - 1.5 * IQR\n",
    "upper_bound = Q3 + 1.5 * IQR\n",
    "\n",
    "lower_bound , upper_bound"
   ]
  },
  {
   "cell_type": "code",
   "execution_count": null,
   "metadata": {},
   "outputs": [],
   "source": [
    "df.storey_lower_bound = df.storey_lower_bound.clip(lower_bound , upper_bound)"
   ]
  },
  {
   "cell_type": "code",
   "execution_count": null,
   "metadata": {},
   "outputs": [],
   "source": [
    "# Creating plot\n",
    "plt.boxplot(df['storey_lower_bound'] )\n",
    "\n",
    "# show plot\n",
    "plt.show()"
   ]
  },
  {
   "cell_type": "code",
   "execution_count": null,
   "metadata": {},
   "outputs": [],
   "source": [
    "# Creating plot\n",
    "plt.boxplot(df['storey_upper_bound'] )\n",
    "\n",
    "# show plot\n",
    "plt.show()"
   ]
  },
  {
   "cell_type": "code",
   "execution_count": null,
   "metadata": {},
   "outputs": [],
   "source": [
    "Q1 = df['storey_upper_bound'].quantile(0.25)\n",
    "Q3 = df['storey_upper_bound'].quantile(0.75)\n",
    "IQR = Q3 - Q1\n",
    "\n",
    "lower_bound = Q1 - 1.5 * IQR\n",
    "upper_bound = Q3 + 1.5 * IQR\n",
    "\n",
    "lower_bound , upper_bound"
   ]
  },
  {
   "cell_type": "code",
   "execution_count": null,
   "metadata": {},
   "outputs": [],
   "source": [
    "df.storey_upper_bound = df.storey_upper_bound.clip(lower_bound , upper_bound)"
   ]
  },
  {
   "cell_type": "code",
   "execution_count": null,
   "metadata": {},
   "outputs": [],
   "source": [
    "\n",
    "# Creating plot\n",
    "plt.boxplot(df['storey_upper_bound'] )\n",
    "\n",
    "# show plot\n",
    "plt.show()"
   ]
  },
  {
   "cell_type": "markdown",
   "metadata": {},
   "source": [
    "EDA - EXPLORATARY DATA ANALYSIS\n",
    "\n",
    "Categorical Vs Frequency using BarPlot"
   ]
  },
  {
   "cell_type": "code",
   "execution_count": null,
   "metadata": {},
   "outputs": [],
   "source": [
    "object_data_cols = [var for var in df.columns if df[var].dtype == 'object']\n",
    "object_data_cols"
   ]
  },
  {
   "cell_type": "code",
   "execution_count": null,
   "metadata": {},
   "outputs": [],
   "source": [
    "plt.figure(figsize=(20, 25))\n",
    "\n",
    "plt.subplot(431)\n",
    "df['town'].value_counts().sort_values(ascending=False).plot(kind='bar', edgecolor='k')\n",
    "plt.title('town')\n",
    "plt.xlabel('town')\n",
    "plt.ylabel('Frequency')\n",
    "plt.xticks(rotation=15)\n",
    "\n",
    "plt.subplot(432)\n",
    "df['flat_type'].value_counts().sort_values(ascending=False).plot(kind='bar', edgecolor='k')\n",
    "plt.title('flat_type')\n",
    "plt.xlabel('flat_type')\n",
    "plt.ylabel('Frequency')\n",
    "\n",
    "plt.subplot(433)\n",
    "df['street_name'].value_counts().sort_values(ascending=False).plot(kind='bar', edgecolor='k')\n",
    "plt.title('street_name')\n",
    "plt.xlabel('street_name')\n",
    "plt.ylabel('Frequency')\n",
    "\n",
    "plt.subplot(434)\n",
    "df['flat_model'].value_counts().sort_values(ascending=False).plot(kind='bar', edgecolor='k')\n",
    "plt.title('flat_model')\n",
    "plt.xlabel('flat_model')\n",
    "plt.ylabel('Frequency')\n",
    "\n",
    "plt.subplot(435)\n",
    "df['resale_year'].value_counts().sort_values(ascending=False).plot(kind='bar', edgecolor='k')\n",
    "plt.title('resale_year')\n",
    "plt.xlabel('resale_year')\n",
    "plt.ylabel('Frequency')\n",
    "\n",
    "plt.subplot(436)\n",
    "df['resale_month'].value_counts().sort_values(ascending=False).plot(kind='bar', edgecolor='k')\n",
    "plt.title('resale_month')\n",
    "plt.xlabel('resale_month')\n",
    "plt.ylabel('Frequency')\n",
    "\n",
    "plt.tight_layout()\n",
    "plt.show()"
   ]
  },
  {
   "cell_type": "markdown",
   "metadata": {},
   "source": [
    "Feature Vs Target (Categorical Data )"
   ]
  },
  {
   "cell_type": "code",
   "execution_count": null,
   "metadata": {},
   "outputs": [],
   "source": [
    "# List of features to plot\n",
    "features = [\n",
    "    'town',\n",
    " 'flat_type',\n",
    " 'street_name',\n",
    " 'flat_model',\n",
    " 'resale_year',\n",
    " 'resale_month'\n",
    "]\n",
    "for feature in features:\n",
    "    plt.figure(figsize=(10, 6))\n",
    "    df.groupby(feature)['resale_price'].mean().plot(kind='bar')\n",
    "    plt.xlabel(feature)\n",
    "    plt.ylabel('Mean resale_price')\n",
    "    plt.title(f'{feature} vs Mean Flight_Price')\n",
    "    plt.show()"
   ]
  },
  {
   "cell_type": "markdown",
   "metadata": {},
   "source": [
    "Feature Vs Target (Condinues Data )"
   ]
  },
  {
   "cell_type": "code",
   "execution_count": null,
   "metadata": {},
   "outputs": [],
   "source": [
    "float_data_cols = [var for var in df.columns if df[var].dtype == 'float64']\n",
    "float_data_cols"
   ]
  },
  {
   "cell_type": "code",
   "execution_count": null,
   "metadata": {},
   "outputs": [],
   "source": [
    "integer_data_cols = [var for var in df.columns if df[var].dtype == 'int64']\n",
    "integer_data_cols"
   ]
  },
  {
   "cell_type": "code",
   "execution_count": null,
   "metadata": {},
   "outputs": [],
   "source": [
    "features = [ 'block',\n",
    " 'floor_area_sqm',\n",
    " 'lease_commence_date',\n",
    " 'resale_price',\n",
    " 'remaining_lease',\n",
    "'storey_lower_bound', \n",
    "'storey_upper_bound']\n",
    "target = 'resale_price'\n",
    "for feature in features:\n",
    "    plt.figure(figsize=(10, 6))\n",
    "    plt.scatter(df[feature], df[target], alpha=0.5)\n",
    "    plt.xlabel(feature)\n",
    "    plt.ylabel(target)\n",
    "    plt.title(f'{feature} vs {target}')\n",
    "    plt.show()"
   ]
  },
  {
   "cell_type": "markdown",
   "metadata": {},
   "source": [
    "Encoding Categorical Variables"
   ]
  },
  {
   "cell_type": "code",
   "execution_count": null,
   "metadata": {},
   "outputs": [],
   "source": [
    "#using encoding make a copy\n",
    "df1=df.copy()\n",
    "\n",
    "object_data_cols = [var for var in df.columns if df[var].dtype == 'object']\n",
    "object_data_cols"
   ]
  },
  {
   "cell_type": "code",
   "execution_count": null,
   "metadata": {},
   "outputs": [],
   "source": [
    "from sklearn.preprocessing import LabelEncoder\n",
    "# Initialize the Encoder\n",
    "le= LabelEncoder()"
   ]
  },
  {
   "cell_type": "code",
   "execution_count": null,
   "metadata": {},
   "outputs": [],
   "source": [
    "# list unique street names\n",
    "streets = df1['street_name'].unique()\n",
    "# map the streets to povide input to ML model\n",
    "streets_mapping = {street: idx + 1 for idx, street in enumerate(streets)}\n",
    "streets_mapping"
   ]
  },
  {
   "cell_type": "code",
   "execution_count": null,
   "metadata": {},
   "outputs": [],
   "source": [
    "# alter the column with the mapped numbers\n",
    "df1['street_name'] = df1['street_name'].map(streets_mapping)\n",
    "\n",
    "# Display the DataFrame\n",
    "df1.head(2)"
   ]
  },
  {
   "cell_type": "code",
   "execution_count": null,
   "metadata": {},
   "outputs": [],
   "source": [
    "df1['flat_type'].unique()"
   ]
  },
  {
   "cell_type": "code",
   "execution_count": null,
   "metadata": {},
   "outputs": [],
   "source": [
    "category_mapping = {\n",
    "    '1 ROOM': 1,\n",
    "    '2 ROOM': 2,\n",
    "    '3 ROOM': 3,\n",
    "    '4 ROOM': 4,\n",
    "    '5 ROOM': 5,\n",
    "    'EXECUTIVE': 6,\n",
    "    'MULTI GENERATION': 7\n",
    "}\n",
    "\n",
    "# alter the column with the mapped numbers\n",
    "df1['flat_type'] =df1['flat_type'].map(category_mapping)\n",
    "\n",
    "# Display the DataFrame\n",
    "df1.head(2)"
   ]
  },
  {
   "cell_type": "code",
   "execution_count": null,
   "metadata": {},
   "outputs": [],
   "source": [
    "\n",
    "# Create a mapping of 'flat_model' values to numbers\n",
    "flat_model_mapping = {\n",
    "    'IMPROVED': 1,\n",
    "    'NEW GENERATION': 2,\n",
    "    'MODEL A': 3,\n",
    "    'STANDARD': 4,\n",
    "    'SIMPLIFIED': 5,\n",
    "    'MODEL A-MAISONETTE': 6,\n",
    "    'APARTMENT': 7,\n",
    "    'MAISONETTE': 8,\n",
    "    'TERRACE': 9,\n",
    "    '2-ROOM': 10,\n",
    "    'IMPROVED-MAISONETTE': 11,\n",
    "    'MULTI GENERATION': 12,\n",
    "    'PREMIUM APARTMENT': 13,\n",
    "    'Improved': 14,\n",
    "    'New Generation': 15,\n",
    "    'Model A': 16,\n",
    "    'Standard': 17,\n",
    "    'Apartment': 18,\n",
    "    'Simplified': 19,\n",
    "    'Model A-Maisonette': 20,\n",
    "    'Maisonette': 21,\n",
    "    'Multi Generation': 22,\n",
    "    'Adjoined flat': 23,\n",
    "    'Premium Apartment': 24,\n",
    "    'Terrace': 25,\n",
    "    'Improved-Maisonette': 26,\n",
    "    'Premium Maisonette': 27,\n",
    "    '2-room': 28,\n",
    "    'Model A2': 29,\n",
    "    'DBSS': 30,\n",
    "    'Type S1': 31,\n",
    "    'Type S2': 32,\n",
    "    'Premium Apartment Loft': 33,\n",
    "    '3Gen': 34\n",
    "}\n",
    "\n",
    "# Map 'flat_model' values to numbers\n",
    "df1['flat_model'] =df1['flat_model'].map(flat_model_mapping)\n",
    "\n",
    "# Display the DataFrame\n",
    "df1.head(3)"
   ]
  },
  {
   "cell_type": "code",
   "execution_count": null,
   "metadata": {},
   "outputs": [],
   "source": [
    "\n",
    "# Create a mapping of 'town' values to numbers\n",
    "town_mapping = {\n",
    "    'ANG MO KIO': 1,\n",
    "    'BEDOK': 2,\n",
    "    'BISHAN': 3,\n",
    "    'BUKIT BATOK': 4,\n",
    "    'BUKIT MERAH': 5,\n",
    "    'BUKIT TIMAH': 6,\n",
    "    'CENTRAL AREA': 7,\n",
    "    'CHOA CHU KANG': 8,\n",
    "    'CLEMENTI': 9,\n",
    "    'GEYLANG': 10,\n",
    "    'HOUGANG': 11,\n",
    "    'JURONG EAST': 12,\n",
    "    'JURONG WEST': 13,\n",
    "    'KALLANG/WHAMPOA': 14,\n",
    "    'MARINE PARADE': 15,\n",
    "    'QUEENSTOWN': 16,\n",
    "    'SENGKANG': 17,\n",
    "    'SERANGOON': 18,\n",
    "    'TAMPINES': 19,\n",
    "    'TOA PAYOH': 20,\n",
    "    'WOODLANDS': 21,\n",
    "    'YISHUN': 22,\n",
    "    'LIM CHU KANG': 23,\n",
    "    'SEMBAWANG': 24,\n",
    "    'BUKIT PANJANG': 25,\n",
    "    'PASIR RIS': 26,\n",
    "    'PUNGGOL': 27\n",
    "}\n",
    "\n",
    "# Map 'town' values to numbers\n",
    "df1['town'] = df1['town'].map(town_mapping)\n",
    "\n",
    "# Display the DataFrame\n",
    "df1.head(4)"
   ]
  },
  {
   "cell_type": "code",
   "execution_count": null,
   "metadata": {},
   "outputs": [],
   "source": [
    "# save the processed data for the deployment\n",
    "df1.to_csv('final.csv')\n",
    "Correlation\n"
   ]
  },
  {
   "cell_type": "code",
   "execution_count": null,
   "metadata": {},
   "outputs": [],
   "source": [
    "# correlation matrix (ranges from 1 to -1)\n",
    "corrm=df1.corr()\n",
    "#corrm.to_csv('corrm.csv')\n",
    "corrm"
   ]
  },
  {
   "cell_type": "markdown",
   "metadata": {},
   "source": [
    "Heatmap"
   ]
  },
  {
   "cell_type": "code",
   "execution_count": null,
   "metadata": {},
   "outputs": [],
   "source": [
    "# visualize correlation matrix in Seaborn using a heatmap\n",
    "plt.figure(figsize=(16,6))\n",
    "sns.heatmap(corrm,annot=True,cmap=\"Blues\",fmt=\".2f\")"
   ]
  },
  {
   "cell_type": "markdown",
   "metadata": {},
   "source": [
    "RIGHT TO MEACHIN LEARNING\n",
    "\n",
    "Split"
   ]
  },
  {
   "cell_type": "code",
   "execution_count": null,
   "metadata": {},
   "outputs": [],
   "source": [
    "# assign feature and target variable\n",
    "X = df1.drop('resale_price', axis= 1)\n",
    "y = df1['resale_price']\n",
    "#splitting the data into training and testing sets with the ratio of 8:2\n",
    "from sklearn.model_selection import train_test_split\n",
    "X_train, X_test, y_train, y_test = train_test_split(X, y, test_size=0.2, random_state=72)"
   ]
  },
  {
   "cell_type": "code",
   "execution_count": null,
   "metadata": {},
   "outputs": [],
   "source": [
    "print(X_train.shape,X_test.shape,y_train.shape,y_test.shape)"
   ]
  },
  {
   "cell_type": "markdown",
   "metadata": {},
   "source": [
    "Scalling"
   ]
  },
  {
   "cell_type": "code",
   "execution_count": null,
   "metadata": {},
   "outputs": [],
   "source": [
    "from sklearn.preprocessing import StandardScaler\n",
    "scaler = StandardScaler()\n",
    "scaler.fit(X_train)\n",
    "X_train_scaled = scaler.transform(X_train)\n",
    "X_test_scaled = scaler.transform(X_test)\n",
    "X_train_scaled ,X_test_scaled"
   ]
  },
  {
   "cell_type": "markdown",
   "metadata": {},
   "source": [
    "Model_Fit"
   ]
  },
  {
   "cell_type": "code",
   "execution_count": null,
   "metadata": {},
   "outputs": [],
   "source": [
    "from sklearn.linear_model import LinearRegression\n",
    "from sklearn.neighbors import KNeighborsRegressor\n",
    "from sklearn.tree import DecisionTreeRegressor\n",
    "from sklearn.ensemble import RandomForestRegressor\n",
    "\n",
    "import xgboost as xgb\n",
    "from xgboost import XGBRegressor  # Use XGBRegressor for regression\n",
    "\n",
    "from sklearn.model_selection import train_test_split\n",
    "from sklearn.model_selection import cross_val_score\n",
    "from sklearn.metrics import mean_absolute_error, mean_squared_error, r2_score"
   ]
  },
  {
   "cell_type": "markdown",
   "metadata": {},
   "source": [
    "Linear Regression"
   ]
  },
  {
   "cell_type": "code",
   "execution_count": null,
   "metadata": {},
   "outputs": [],
   "source": [
    "linear_model = LinearRegression(fit_intercept=True) #initialise\n",
    "linear_model.fit(X_train,y_train) #fit - all magic\n",
    "print(linear_model.predict(X_test))     #predict\n",
    "print(y_test)"
   ]
  },
  {
   "cell_type": "code",
   "execution_count": null,
   "metadata": {},
   "outputs": [],
   "source": [
    "linear_model.score(X_test, y_test)"
   ]
  },
  {
   "cell_type": "code",
   "execution_count": null,
   "metadata": {},
   "outputs": [],
   "source": [
    "from sklearn.model_selection import cross_val_score\n",
    "cross_val_linear_model=cross_val_score(linear_model,X_train,y_train,cv=10).mean()\n",
    "cross_val_linear_model"
   ]
  },
  {
   "cell_type": "markdown",
   "metadata": {},
   "source": [
    "K Nearest Neighbor Regression"
   ]
  },
  {
   "cell_type": "code",
   "execution_count": null,
   "metadata": {},
   "outputs": [],
   "source": [
    "# Create and train the K Nearest Neighbor Regression model\n",
    "knn_regressor = KNeighborsRegressor(n_neighbors=5)  # You may need to adjust the number of neighbors\n",
    "knn_regressor.fit(X_train_scaled, y_train)\n",
    "\n",
    "# Make predictions on the test set using KNN model\n",
    "y_pred_knn = knn_regressor.predict(X_test_scaled)\n",
    "\n",
    "# Calculate Mean Absolute Error (MAE)\n",
    "mae_knn = mean_absolute_error(y_test, y_pred_knn)\n",
    "\n",
    "# Calculate Mean Squared Error (MSE)\n",
    "mse_knn = mean_squared_error(y_test, y_pred_knn)\n",
    "\n",
    "# Calculate Root Mean Squared Error (RMSE)\n",
    "rmse_knn = np.sqrt(mse_knn)\n",
    "\n",
    "# Calculate R-squared (R2) Score\n",
    "r2_knn = r2_score(y_test, y_pred_knn)\n",
    "\n",
    "print(\"Mean Absolute Error (MAE)    :\", mae_knn)\n",
    "print(\"Mean Squared Error (MSE)     :\", mse_knn)\n",
    "print(\"Root Mean Square Error (RMSE):\", rmse_knn)\n",
    "print(\"R-squared (R2) Score         :\", r2_knn)"
   ]
  },
  {
   "cell_type": "markdown",
   "metadata": {},
   "source": [
    "\n",
    "Decision Tree Regression"
   ]
  },
  {
   "cell_type": "code",
   "execution_count": null,
   "metadata": {},
   "outputs": [],
   "source": [
    "# Create and train the Decision Tree Regressor model\n",
    "dt_regressor = DecisionTreeRegressor(max_depth=20, random_state=11)\n",
    "dt_regressor.fit(X_train, y_train)\n",
    "\n",
    "# Make predictions on the test set using Decision Tree model\n",
    "y_pred_dt = dt_regressor.predict(X_test)\n",
    "\n",
    "# Calculate Mean Absolute Error (MAE)\n",
    "mae_dt = mean_absolute_error(y_test, y_pred_dt)\n",
    "\n",
    "# Calculate Mean Squared Error (MSE)\n",
    "mse_dt = mean_squared_error(y_test, y_pred_dt)\n",
    "\n",
    "# Calculate Root Mean Squared Error (RMSE)\n",
    "rmse_dt = np.sqrt(mse_dt)\n",
    "\n",
    "# Calculate R-squared (R2) Score\n",
    "r2_dt = r2_score(y_test, y_pred_dt)\n",
    "\n",
    "print(\"Mean Absolute Error (MAE)    :\", mae_dt)\n",
    "print(\"Mean Squared Error (MSE)     :\", mse_dt)\n",
    "print(\"Root Mean Square Error (RMSE):\", rmse_dt)\n",
    "print(\"R-squared (R2) Score         :\", r2_dt)"
   ]
  },
  {
   "cell_type": "markdown",
   "metadata": {},
   "source": [
    "Random Forest Regression"
   ]
  },
  {
   "cell_type": "code",
   "execution_count": null,
   "metadata": {},
   "outputs": [],
   "source": [
    "\n",
    "from sklearn.metrics import mean_absolute_error, mean_squared_error, r2_score\n",
    "\n",
    "# Create and train the Random Forest Regressor model\n",
    "rf_regressor = RandomForestRegressor(random_state=42)\n",
    "rf_regressor.fit(X_train, y_train)\n",
    "\n",
    "# Make predictions on the test set\n",
    "y_pred = rf_regressor.predict(X_test)\n",
    "\n",
    "# Calculate Mean Absolute Error (MAE)\n",
    "mae = mean_absolute_error(y_test, y_pred)\n",
    "\n",
    "# Calculate Mean Squared Error (MSE)\n",
    "mse = mean_squared_error(y_test, y_pred)\n",
    "\n",
    "# Calculate Root Mean Squared Error (RMSE)\n",
    "rmse = np.sqrt(mse)\n",
    "\n",
    "# Calculate R-squared (R2) Score\n",
    "rf_r2 = r2_score(y_test, y_pred)\n",
    "\n",
    "print(\"Mean Absolute Error (MAE)    :\", mae)\n",
    "print(\"Mean Squared Error (MSE)     :\", mse)\n",
    "print(\"Root Mean Square Error (RMSE):\", rmse)\n",
    "print(\"R-squared (R2) Score         :\", rf_r2)"
   ]
  },
  {
   "cell_type": "markdown",
   "metadata": {},
   "source": [
    "Xg Boost Regression"
   ]
  },
  {
   "cell_type": "code",
   "execution_count": null,
   "metadata": {},
   "outputs": [],
   "source": [
    "\n",
    "# Create and train an XGBoost regressor\n",
    "xgregressor = XGBRegressor()\n",
    "xgregressor.fit(X_train, y_train)\n",
    "\n",
    "# Make predictions\n",
    "y_pred = xgregressor.predict(X_test)\n",
    "\n",
    "# Calculate Mean Absolute Error (MAE)\n",
    "mae = mean_absolute_error(y_test, y_pred)\n",
    "\n",
    "# Calculate Mean Squared Error (MSE)\n",
    "mse = mean_squared_error(y_test, y_pred)\n",
    "\n",
    "# Calculate Root Mean Squared Error (RMSE)\n",
    "rmse = np.sqrt(mse)\n",
    "\n",
    "# Calculate R-squared (R2) Score\n",
    "xgb_r2 = r2_score(y_test, y_pred)\n",
    "\n",
    "print(\"Mean Absolute Error (MAE)    :\", mae)\n",
    "print(\"Mean Squared Error (MSE)     :\", mse)\n",
    "print(\"Root Mean Square Error (RMSE):\", rmse)\n",
    "print(\"R-squared (R2) Score         :\", xgb_r2)"
   ]
  },
  {
   "cell_type": "markdown",
   "metadata": {},
   "source": [
    "Finalizeing Models"
   ]
  },
  {
   "cell_type": "code",
   "execution_count": null,
   "metadata": {},
   "outputs": [],
   "source": [
    "\n",
    "models = [ 'KNeighborsRegressor','DecisionTreeRegressor', 'RandomForestRegressor', 'XGBRegressor']\n",
    "score = [r2_knn,r2_dt, rf_r2, xgb_r2]\n",
    "\n",
    "fig=px.bar(x=models, y=score,title='R_2 of Regression Models')\n",
    "fig.show()\n",
    "\n",
    "print(\"FINDING BEST FIT MODEL FOR EVALUATION BASED ON R_2 SCORE\\n\")\n",
    "max_score = max(score)  # Initialize max_score with the maximum value in the score list\n",
    "max_model = \"\"\n",
    "\n",
    "for model, score_value in zip(models, score):\n",
    "    print(model, score_value)\n",
    "    if score_value == max_score:\n",
    "        max_model = model\n",
    "\n",
    "print(f\"\\nModel: {max_model} contain Maximum R2_Score: {max_score} \")"
   ]
  },
  {
   "cell_type": "markdown",
   "metadata": {},
   "source": [
    "Suggestion"
   ]
  },
  {
   "cell_type": "code",
   "execution_count": null,
   "metadata": {},
   "outputs": [],
   "source": [
    "\n",
    "rf_regressor.feature_importances_"
   ]
  },
  {
   "cell_type": "code",
   "execution_count": null,
   "metadata": {},
   "outputs": [],
   "source": [
    "sorted_idx = rf_regressor.feature_importances_.argsort()\n",
    "plt.figure(figsize=(10,5))\n",
    "plt.barh(df.columns[sorted_idx], rf_regressor.feature_importances_[sorted_idx])\n",
    "plt.xlabel(\"Random Forest Feature Importance\")\n",
    "plt.title(\"Feature Importance\")\n",
    "\n",
    "plt.show()"
   ]
  },
  {
   "cell_type": "markdown",
   "metadata": {},
   "source": [
    "Save the model"
   ]
  },
  {
   "cell_type": "code",
   "execution_count": null,
   "metadata": {},
   "outputs": [],
   "source": [
    "model=rf_regressor.fit(X_train, y_train)"
   ]
  },
  {
   "cell_type": "code",
   "execution_count": null,
   "metadata": {},
   "outputs": [],
   "source": [
    "model"
   ]
  },
  {
   "cell_type": "code",
   "execution_count": null,
   "metadata": {},
   "outputs": [],
   "source": [
    "import pickle\n",
    "\n",
    "# save the model to disk\n",
    "filename = 'RandomForestRegressor_model.pkl'\n",
    "with open(filename, 'wb') as file:\n",
    "    pickle.dump(model, file)\n",
    "\n",
    "print(f\"Saved {filename} model to disk\")"
   ]
  },
  {
   "cell_type": "markdown",
   "metadata": {},
   "source": [
    "Predicting"
   ]
  },
  {
   "cell_type": "code",
   "execution_count": null,
   "metadata": {},
   "outputs": [],
   "source": [
    "\n",
    "# get sample to predict the resale price\n",
    "pre_df =df1.sample(n=5)\n",
    "pre_df"
   ]
  },
  {
   "cell_type": "code",
   "execution_count": null,
   "metadata": {},
   "outputs": [],
   "source": [
    "# drop the resale price column\n",
    "A = pre_df.drop('resale_price', axis = 1)"
   ]
  },
  {
   "cell_type": "markdown",
   "metadata": {},
   "source": [
    "Resale Price"
   ]
  },
  {
   "cell_type": "code",
   "execution_count": null,
   "metadata": {},
   "outputs": [],
   "source": [
    "\n",
    "# Make predictions on the sample\n",
    "pre_pred = rf_regressor.predict(A)\n",
    "pre_pred"
   ]
  }
 ],
 "metadata": {
  "kernelspec": {
   "display_name": "Python 3",
   "language": "python",
   "name": "python3"
  },
  "language_info": {
   "codemirror_mode": {
    "name": "ipython",
    "version": 3
   },
   "file_extension": ".py",
   "mimetype": "text/x-python",
   "name": "python",
   "nbconvert_exporter": "python",
   "pygments_lexer": "ipython3",
   "version": "3.12.1"
  }
 },
 "nbformat": 4,
 "nbformat_minor": 2
}
